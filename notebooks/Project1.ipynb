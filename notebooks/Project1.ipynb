{
  "nbformat": 4,
  "nbformat_minor": 0,
  "metadata": {
    "colab": {
      "provenance": []
    },
    "kernelspec": {
      "name": "python3",
      "display_name": "Python 3"
    },
    "language_info": {
      "name": "python"
    }
  },
  "cells": [
    {
      "cell_type": "code",
      "execution_count": null,
      "metadata": {
        "colab": {
          "base_uri": "https://localhost:8080/"
        },
        "id": "9lvahZzPz5J_",
        "outputId": "ca1e0e90-946a-4863-88be-88d9be9122c6"
      },
      "outputs": [
        {
          "output_type": "stream",
          "name": "stdout",
          "text": [
            "\n",
            " All libraries imported successfully!\n"
          ]
        },
        {
          "output_type": "stream",
          "name": "stderr",
          "text": [
            "[nltk_data] Downloading package wordnet to /root/nltk_data...\n",
            "[nltk_data]   Package wordnet is already up-to-date!\n",
            "[nltk_data] Downloading package omw-1.4 to /root/nltk_data...\n",
            "[nltk_data]   Package omw-1.4 is already up-to-date!\n",
            "[nltk_data] Downloading package punkt to /root/nltk_data...\n",
            "[nltk_data]   Package punkt is already up-to-date!\n",
            "[nltk_data] Downloading package punkt_tab to /root/nltk_data...\n",
            "[nltk_data]   Package punkt_tab is already up-to-date!\n",
            "[nltk_data] Downloading package stopwords to /root/nltk_data...\n",
            "[nltk_data]   Package stopwords is already up-to-date!\n",
            "[nltk_data] Downloading package averaged_perceptron_tagger to\n",
            "[nltk_data]     /root/nltk_data...\n",
            "[nltk_data]   Package averaged_perceptron_tagger is already up-to-\n",
            "[nltk_data]       date!\n",
            "[nltk_data] Downloading package averaged_perceptron_tagger_eng to\n",
            "[nltk_data]     /root/nltk_data...\n",
            "[nltk_data]   Package averaged_perceptron_tagger_eng is already up-to-\n",
            "[nltk_data]       date!\n",
            "[nltk_data] Downloading package tagsets_json to /root/nltk_data...\n",
            "[nltk_data]   Package tagsets_json is already up-to-date!\n"
          ]
        }
      ],
      "source": [
        "# Import necessary libraries for data manipulation, visualization, and machine learning\n",
        "import pandas as pd\n",
        "import numpy as np\n",
        "import matplotlib.pyplot as plt\n",
        "import seaborn as sns\n",
        "import re\n",
        "import joblib\n",
        "import string\n",
        "import math\n",
        "import time\n",
        "import os\n",
        "\n",
        "# Sklearn libraries for machine learning and text processing\n",
        "from sklearn.feature_extraction.text import TfidfVectorizer, CountVectorizer\n",
        "from sklearn.naive_bayes import MultinomialNB\n",
        "from sklearn.svm import SVC\n",
        "from sklearn.linear_model import LogisticRegression\n",
        "from sklearn.ensemble import RandomForestClassifier\n",
        "from sklearn.model_selection import train_test_split, GridSearchCV, cross_val_score, StratifiedKFold, cross_validate, validation_curve, learning_curve\n",
        "from sklearn.pipeline import Pipeline, FeatureUnion\n",
        "from sklearn.preprocessing import StandardScaler, FunctionTransformer\n",
        "from sklearn import metrics\n",
        "\n",
        "\n",
        "# NLTK libraries for text processing (lemmatization, stemming, stopwords, POS tagging)\n",
        "import nltk\n",
        "from nltk.corpus import stopwords, wordnet\n",
        "from nltk.stem import WordNetLemmatizer, PorterStemmer\n",
        "from nltk.tokenize import word_tokenize\n",
        "\n",
        "# Set up visualization\n",
        "%matplotlib inline\n",
        "import matplotlib.pyplot as plt\n",
        "sns.set_style(\"whitegrid\")\n",
        "plt.style.use(\"fivethirtyeight\")\n",
        "\n",
        "# Download necessary NLTK resources for text processing\n",
        "nltk.download('wordnet')  # WordNet for lemmatization\n",
        "nltk.download('omw-1.4')  # Open Multilingual Wordnet\n",
        "nltk.download('punkt')  # Tokenizer\n",
        "nltk.download('punkt_tab')\n",
        "nltk.download('stopwords')  # Stopwords for text cleaning\n",
        "nltk.download('averaged_perceptron_tagger')  # POS tagger for part-of-speech tagging\n",
        "nltk.download('averaged_perceptron_tagger_eng')  # Additional tagger\n",
        "nltk.download('tagsets_json')  # Tagset resource\n",
        "\n",
        "print(\"\\n All libraries imported successfully!\")"
      ]
    },
    {
      "cell_type": "markdown",
      "source": [
        "**This is where the gihub repo will be cloned, to get the data required.**"
      ],
      "metadata": {
        "id": "zixzXrgs3iVO"
      }
    },
    {
      "cell_type": "code",
      "source": [
        "!clone     https://github.com/henry-rob17/I2LLMS_Project1.git"
      ],
      "metadata": {
        "id": "--NJF0h60k7y",
        "colab": {
          "base_uri": "https://localhost:8080/"
        },
        "outputId": "21274b45-27c3-4d22-e2c1-317cef4dd574"
      },
      "execution_count": null,
      "outputs": [
        {
          "output_type": "stream",
          "name": "stdout",
          "text": [
            "/bin/bash: line 1: clone: command not found\n"
          ]
        }
      ]
    },
    {
      "cell_type": "markdown",
      "source": [
        "**READ DATASET INTO PANDAS**"
      ],
      "metadata": {
        "id": "EoNmQoNp7g4x"
      }
    },
    {
      "cell_type": "code",
      "source": [
        "import pandas as pd\n",
        "df_test = pd.read_csv('/content/Final_test_data.csv')\n",
        "df_train = pd.read_excel('/content/AI_vs_huam_train_dataset.xlsx')"
      ],
      "metadata": {
        "id": "hNTEe_287fT2"
      },
      "execution_count": null,
      "outputs": []
    },
    {
      "cell_type": "code",
      "source": [
        "!push"
      ],
      "metadata": {
        "id": "jI76VWRB7n03",
        "colab": {
          "base_uri": "https://localhost:8080/"
        },
        "outputId": "78db50fe-e6bb-4385-afc3-3d62e8879c79"
      },
      "execution_count": null,
      "outputs": [
        {
          "output_type": "stream",
          "name": "stdout",
          "text": [
            "/bin/bash: line 1: push: command not found\n"
          ]
        }
      ]
    },
    {
      "cell_type": "code",
      "source": [
        "import spacy\n",
        "import pandas as pd\n",
        "from sklearn.tree import DecisionTreeClassifier\n",
        "from sklearn.ensemble import AdaBoostClassifier\n",
        "\n",
        "\n",
        "# Load spaCy model without parser/ner for speed\n",
        "nlp = spacy.load(\"en_core_web_sm\", disable=[\"parser\", \"ner\"])\n",
        "\n",
        "# Pre‐compile regex for mixed alphanumeric detection\n",
        "_alphanum_re = re.compile(r\"(?=.*\\d)(?=.*[A-Za-z])\")\n",
        "\n",
        "def text_process(text: str) -> str:\n",
        "    \"\"\"\n",
        "    spaCy‐based preprocessing:\n",
        "     - lowercase\n",
        "     - remove stopwords, punctuation, whitespace\n",
        "     - drop tokens <2 chars\n",
        "     - drop numeric tokens\n",
        "     - drop mixed alphanumeric tokens\n",
        "     - keep only alphabetic tokens\n",
        "    \"\"\"\n",
        "    if not isinstance(text, str):\n",
        "        return \"\"\n",
        "\n",
        "    doc = nlp(text.lower())\n",
        "    cleaned = []\n",
        "    for token in doc:\n",
        "        t = token.text\n",
        "\n",
        "        if token.is_stop:          # standard stopwords\n",
        "            continue\n",
        "        if token.is_punct or token.is_space:\n",
        "            continue\n",
        "        if len(t) < 2:\n",
        "            continue\n",
        "        if token.like_num:         # pure numeric (ints/floats)\n",
        "            continue\n",
        "        if _alphanum_re.search(t): # alphanumeric\n",
        "            continue\n",
        "        if not t.isalpha():        # non‐alphabetic symbols\n",
        "            continue\n",
        "\n",
        "        cleaned.append(t)\n",
        "\n",
        "    return \" \".join(cleaned)\n",
        "\n",
        "\n",
        "# Apply text cleaning to the \"essay\" column\n",
        "df_train['clean_essays'] = df_train['essay'].apply(text_process)\n",
        "df_test['clean_essays'] = df_test['essay'].apply(text_process)\n",
        "\n",
        "# Keep binary labels (AI / Human)\n",
        "# Filter training data to keep only \"Human\" and \"AI\"\n",
        "\n",
        "binary_mapping = { \"AI\": 0, \"Human\": 1 }\n",
        "\n",
        "# Map labels to numeric vals\n",
        "df_train['label_num'] = df_train['label'].map(binary_mapping)\n"
      ],
      "metadata": {
        "id": "Xsij89VhchVy"
      },
      "execution_count": null,
      "outputs": []
    },
    {
      "cell_type": "code",
      "source": [
        "# src/data_preprocessing.py\n",
        "\n",
        "import os\n",
        "import re\n",
        "import pandas as pd\n",
        "import joblib\n",
        "import spacy\n",
        "import matplotlib.pyplot as plt\n",
        "import seaborn as sns\n",
        "from wordcloud import WordCloud\n",
        "from sklearn.feature_extraction.text import TfidfVectorizer\n",
        "\n",
        "\n",
        "# Text‐processing function (spaCy‐based)\n",
        "\n",
        "nlp = spacy.load(\"en_core_web_sm\", disable=[\"parser\", \"ner\"])\n",
        "_alphanum_re = re.compile(r\"(?=.*\\d)(?=.*[A-Za-z])\")\n",
        "\n",
        "def text_process(text: str) -> str:\n",
        "    \"\"\"\n",
        "    - lowercase\n",
        "    - remove stopwords, punctuation, whitespace\n",
        "    - drop tokens <2 chars, numeric, alphanumeric\n",
        "    - keep only alphabetic tokens\n",
        "    \"\"\"\n",
        "    if not isinstance(text, str):\n",
        "        return \"\"\n",
        "    tokens = []\n",
        "    for token in nlp(text.lower()):\n",
        "        t = token.text\n",
        "        if token.is_stop:            continue\n",
        "        if token.is_punct or token.is_space:  continue\n",
        "        if len(t) < 2:               continue\n",
        "        if token.like_num:           continue\n",
        "        if _alphanum_re.search(t):   continue\n",
        "        if not t.isalpha():          continue\n",
        "        tokens.append(t)\n",
        "    return \" \".join(tokens)\n",
        "\n",
        "\n",
        "\n",
        "# Load & clean train/test data\n",
        "\n",
        "\n",
        "TRAIN_PATH   = \"/content/AI_vs_huam_train_dataset.xlsx\"\n",
        "TEST_PATH    = \"/content/Final_test_data.csv\"\n",
        "\n",
        "\n",
        "def load_and_clean(train_path, test_path):\n",
        "    # Handle different file types for train and test data\n",
        "    df_train = pd.read_excel(train_path)\n",
        "    df_test = pd.read_csv(test_path)\n",
        "\n",
        "    df_train[\"clean_essays\"] = df_train[\"essay\"].apply(text_process)\n",
        "    df_train[\"label_num\"]    = df_train[\"label\"]\n",
        "    df_test[\"clean_essays\"] = df_test[\"essay\"].apply(text_process)\n",
        "\n",
        "\n",
        "    return df_train, df_test\n",
        "\n",
        "df_train, df_test = load_and_clean(TRAIN_PATH, TEST_PATH)\n",
        "\n",
        "\n",
        "\n",
        "# Exploratory Data Analysis (on training set)\n",
        "\n",
        "def explore(df):\n",
        "\n",
        "    print(\"Samples:\", len(df))\n",
        "    print(df.label.value_counts(), \"\\n\")\n",
        "\n",
        "    # Text length features\n",
        "    df[\"char_count\"] = df.clean_essays.str.len()\n",
        "    df[\"word_count\"] = df.clean_essays.str.split().str.len()\n",
        "    print(df[[\"char_count\",\"word_count\"]].describe(), \"\\n\")\n",
        "\n",
        "    # Distributions\n",
        "    fig, axes = plt.subplots(1,2,figsize=(12,4))\n",
        "    sns.histplot(df, x=\"char_count\", hue=\"label\", ax=axes[0], element=\"step\")\n",
        "    axes[0].set_title(\"Character Count by Class\")\n",
        "    sns.histplot(df, x=\"word_count\",  hue=\"label\", ax=axes[1], element=\"step\")\n",
        "    axes[1].set_title(\"Word Count by Class\")\n",
        "    plt.tight_layout()\n",
        "    plt.show()\n",
        "\n",
        "\n",
        "explore(df_train)\n",
        "\n",
        "\n",
        "\n",
        "#  n-Gram dimensionality check\n",
        "\n",
        "corpus = df_train[\"clean_essays\"]\n",
        "vectorizers = {\n",
        "    \"unigrams\":    TfidfVectorizer(ngram_range=(1,1), min_df=3, max_df=0.8),\n",
        "    \"bigrams\":     TfidfVectorizer(ngram_range=(2,2), min_df=5, max_df=0.8),\n",
        "    \"trigrams\":    TfidfVectorizer(ngram_range=(3,3), min_df=4, max_df=0.8),\n",
        "}\n",
        "\n",
        "for name, vect in vectorizers.items():\n",
        "    X = vect.fit_transform(corpus)\n",
        "    print(f\"{name:10} → shape: {X.shape}, features: {len(vect.get_feature_names_out())}\")\n",
        "\n",
        "\n",
        "\n",
        "# Build & save final TF-IDF for modeling\n",
        "\n",
        "def build_tfidf(corpus, max_features=10000, ngram_range=(1,2)):\n",
        "    vect = TfidfVectorizer(\n",
        "        max_features=max_features,\n",
        "        ngram_range=ngram_range,\n",
        "        min_df=5,\n",
        "        norm=\"l2\"\n",
        "    )\n",
        "    X = vect.fit_transform(corpus)\n",
        "    return X, vect\n",
        "\n",
        "X_train, tfidf_vect = build_tfidf(df_train[\"clean_essays\"])\n",
        "print(\"TF-IDF feature matrix:\", X_train.shape)\n",
        "\n",
        "\n",
        "\n",
        "print(\"data loaded, cleaned & saved.\")"
      ],
      "metadata": {
        "id": "gpIUFwxlc3js",
        "colab": {
          "base_uri": "https://localhost:8080/",
          "height": 775
        },
        "outputId": "b5b760f9-f2ae-4e8f-b9bb-e8adda712537"
      },
      "execution_count": null,
      "outputs": [
        {
          "output_type": "stream",
          "name": "stdout",
          "text": [
            "Samples: 3728\n",
            "label\n",
            "0    1864\n",
            "1    1864\n",
            "Name: count, dtype: int64 \n",
            "\n",
            "        char_count   word_count\n",
            "count  3728.000000  3728.000000\n",
            "mean    939.095762   124.160676\n",
            "std     215.285840    24.541619\n",
            "min     258.000000    37.000000\n",
            "25%     802.000000   110.000000\n",
            "50%     938.000000   124.000000\n",
            "75%    1072.000000   140.000000\n",
            "max    1795.000000   221.000000 \n",
            "\n"
          ]
        },
        {
          "output_type": "display_data",
          "data": {
            "text/plain": [
              "<Figure size 1200x400 with 2 Axes>"
            ],
            "image/png": "[encoded data removed]"
          },
          "metadata": {}
        },
        {
          "output_type": "stream",
          "name": "stdout",
          "text": [
            "unigrams   → shape: (3728, 7894), features: 7894\n",
            "bigrams    → shape: (3728, 8978), features: 8978\n",
            "trigrams   → shape: (3728, 2887), features: 2887\n",
            "TF-IDF feature matrix: (3728, 10000)\n",
            "data loaded, cleaned & saved.\n"
          ]
        }
      ]
    },
    {
      "cell_type": "markdown",
      "source": [
        "**SVM**"
      ],
      "metadata": {
        "id": "Skn18TIHhTzb"
      }
    },
    {
      "cell_type": "code",
      "source": [
        "from sklearn.feature_extraction.text import TfidfVectorizer\n",
        "from sklearn.pipeline import Pipeline\n",
        "from sklearn.preprocessing import FunctionTransformer\n",
        "from sklearn.model_selection import GridSearchCV, ParameterGrid\n",
        "from sklearn.svm import SVC\n",
        "\n",
        "# Text\n",
        "# Apply text_process only once and let the TfidfVectorizer handle the rest\n",
        "X_processed = df_train['essay'].apply(text_process)\n",
        "y = df_train[\"label\"]\n",
        "\n",
        "pipeline = Pipeline([\n",
        "    (\"vectorizer\", TfidfVectorizer()),\n",
        "    (\"classifier\", SVC())\n",
        "])\n",
        "\n",
        "# Parameter grid\n",
        "svm_param_grid = [\n",
        " {\n",
        "    'vectorizer__max_features': [10000],\n",
        "    'vectorizer__ngram_range': [(1,2)],\n",
        "    'classifier__C': [100],\n",
        "    'classifier__kernel': ['rbf'],\n",
        "    'classifier__gamma': [0.01]\n",
        "  }\n",
        "\n",
        "]\n",
        "\n",
        "\n",
        "\n",
        "grid = GridSearchCV(\n",
        "    estimator=pipeline,\n",
        "    param_grid=svm_param_grid,\n",
        "    cv=5,\n",
        "    n_jobs=-1,\n",
        "    verbose=1,\n",
        "    scoring=\"accuracy\"\n",
        ")\n",
        "\n",
        "grid.fit(X_processed, y)    # total run-time was a little over 2 hours\n",
        "\n",
        "print(grid.best_params_)\n",
        "print(grid.best_score_)\n",
        "\n",
        "\n",
        "# Store the best SVM estimator in a variable\n",
        "best_svm = grid.best_estimator_\n",
        "\n",
        "#send results to .pkl file\n",
        "\n",
        "# make sure directory exists\n",
        "os.makedirs(\"models\", exist_ok=True)\n",
        "\n",
        "# Dump the tuned SVM pipeline\n",
        "joblib.dump(best_svm, \"models/svm_model.pkl\")\n",
        "\n",
        "print(\"✔ Saved best SVM to models/svm_model.pkl\")\n",
        "\n",
        "\n",
        "\n"
      ],
      "metadata": {
        "colab": {
          "base_uri": "https://localhost:8080/"
        },
        "id": "eLfho1niKub5",
        "outputId": "24f13280-a481-464e-b0fa-582168011cde"
      },
      "execution_count": null,
      "outputs": [
        {
          "output_type": "stream",
          "name": "stdout",
          "text": [
            "Fitting 5 folds for each of 1 candidates, totalling 5 fits\n",
            "{'classifier__C': 100, 'classifier__gamma': 0.01, 'classifier__kernel': 'rbf', 'vectorizer__max_features': 10000, 'vectorizer__ngram_range': (1, 2)}\n",
            "0.9664778595462151\n",
            "✔ Saved best SVM to models/svm_model.pkl\n"
          ]
        }
      ]
    },
    {
      "cell_type": "markdown",
      "source": [
        "**DECISION TREE**"
      ],
      "metadata": {
        "id": "PsngJWGkhu73"
      }
    },
    {
      "cell_type": "code",
      "source": [
        "from sklearn.pipeline import Pipeline\n",
        "from sklearn.preprocessing import FunctionTransformer\n",
        "from sklearn.feature_extraction.text import TfidfVectorizer\n",
        "from sklearn.model_selection import GridSearchCV, cross_val_score, KFold, StratifiedKFold\n",
        "from sklearn.tree import DecisionTreeClassifier\n",
        "\n",
        "# text processing/filtering\n",
        "X = df_train[\"essay\"].apply(text_process)\n",
        "y = df_train[\"label\"]\n",
        "\n",
        "pipeline_dt = Pipeline([\n",
        "    (\"vectorizer\", TfidfVectorizer()),\n",
        "    (\"classifier\", DecisionTreeClassifier(random_state=42))\n",
        "])\n",
        "\n",
        "# Parameter grid\n",
        "dt_param_grid = {\n",
        "    \"vectorizer__max_features\": [10000],\n",
        "    \"vectorizer__ngram_range\": [(1,2)],\n",
        "    \"classifier__criterion\": [\"gini\"],\n",
        "    \"classifier__max_depth\": [20],\n",
        "    \"classifier__min_samples_split\": [10],\n",
        "    \"classifier__min_samples_leaf\": [1]\n",
        "}\n",
        "\n",
        "grid_dt = GridSearchCV(\n",
        "    estimator=pipeline_dt,\n",
        "    param_grid=dt_param_grid,\n",
        "    cv=5,\n",
        "    n_jobs=-1,\n",
        "    verbose=1,\n",
        "    scoring=\"accuracy\"\n",
        ")\n",
        "\n",
        "\n",
        "grid_dt.fit(X, y)\n",
        "\n",
        "best_dt = grid_dt.best_estimator_\n",
        "\n",
        "print(\"Best parameters:\", grid_dt.best_params_)\n",
        "print(\"Best CV score:\", grid_dt.best_score_)\n",
        "\n",
        "\n",
        "MODEL_DIR = \"models\"\n",
        "os.makedirs(MODEL_DIR, exist_ok=True)\n",
        "\n",
        "# dump the best estimator\n",
        "DT_MODEL_PATH = os.path.join(MODEL_DIR, \"decision_tree_model.pkl\")\n",
        "joblib.dump(best_dt, DT_MODEL_PATH)\n",
        "\n",
        "print(f\"Saved Decision Tree model to: {DT_MODEL_PATH}\")"
      ],
      "metadata": {
        "id": "DNKQHhfohz2a",
        "colab": {
          "base_uri": "https://localhost:8080/"
        },
        "outputId": "b041bc68-284b-4459-929e-47b37e87ccf5"
      },
      "execution_count": 21,
      "outputs": [
        {
          "output_type": "stream",
          "name": "stdout",
          "text": [
            "Fitting 5 folds for each of 1 candidates, totalling 5 fits\n",
            "Best parameters: {'classifier__criterion': 'gini', 'classifier__max_depth': 20, 'classifier__min_samples_leaf': 1, 'classifier__min_samples_split': 10, 'vectorizer__max_features': 10000, 'vectorizer__ngram_range': (1, 2)}\n",
            "Best CV score: 0.8463177213595552\n",
            "Saved Decision Tree model to: models/decision_tree_model.pkl\n"
          ]
        }
      ]
    },
    {
      "cell_type": "markdown",
      "source": [
        "**ADABOOST**"
      ],
      "metadata": {
        "id": "89fhGvv6N_U3"
      }
    },
    {
      "cell_type": "code",
      "source": [
        "from sklearn.pipeline import Pipeline\n",
        "from sklearn.tree import DecisionTreeClassifier\n",
        "from sklearn.ensemble import AdaBoostClassifier\n",
        "from sklearn.model_selection import GridSearchCV\n",
        "from sklearn.feature_extraction.text import TfidfVectorizer\n",
        "\n",
        "X = df_train[\"clean_essays\"]\n",
        "y = df_train[\"label_num\"]\n",
        "\n",
        "# 1) Freeze vectorizer to your “best so far” settings:\n",
        "fixed_vect = TfidfVectorizer(\n",
        "    max_features=5000,\n",
        "    ngram_range=(1,2),\n",
        "    min_df=5,\n",
        "    norm=\"l2\"\n",
        ")\n",
        "\n",
        "ada_pipe = Pipeline([\n",
        "    (\"vectorizer\", fixed_vect),\n",
        "    (\"classifier\", AdaBoostClassifier(\n",
        "        estimator=DecisionTreeClassifier(random_state=42),\n",
        "        random_state=42\n",
        "    ))\n",
        "])\n",
        "\n",
        "# 2) Only tune the AdaBoost parameters:\n",
        "ada_param_grid = {\n",
        "    \"classifier__n_estimators\":     [200],\n",
        "    \"classifier__learning_rate\":    [1.0]\n",
        "}\n",
        "\n",
        "grid = GridSearchCV(\n",
        "    ada_pipe,\n",
        "    param_grid=ada_param_grid,\n",
        "    cv=5,\n",
        "    n_jobs=-1,\n",
        "    verbose=2,\n",
        "    scoring=\"accuracy\"\n",
        ")\n",
        "\n",
        "grid.fit(X, y)\n",
        "\n",
        "print(\"Best AdaBoost params:\", grid.best_params_)\n",
        "print(\"Best AdaBoost CV score:\", grid.best_score_)\n",
        "\n",
        "best_ada = grid.best_estimator_\n",
        "\n",
        "\n",
        "# Check for directory existence\n",
        "MODEL_DIR = \"models\"\n",
        "os.makedirs(MODEL_DIR, exist_ok=True)\n",
        "\n",
        "# Path for the AdaBoost model\n",
        "ADABOOST_MODEL_PATH = os.path.join(MODEL_DIR, \"adaboost_model.pkl\")\n",
        "\n",
        "# Dump the best AdaBoost pipeline\n",
        "joblib.dump(best_ada, ADABOOST_MODEL_PATH)\n",
        "\n",
        "print(f\"Saved AdaBoost model to: {ADABOOST_MODEL_PATH}\")"
      ],
      "metadata": {
        "colab": {
          "base_uri": "https://localhost:8080/"
        },
        "id": "QHeZ1nqNOHlS",
        "outputId": "c48efff1-79e0-4989-8ecd-b95b2d2da82a"
      },
      "execution_count": 23,
      "outputs": [
        {
          "output_type": "stream",
          "name": "stdout",
          "text": [
            "Fitting 5 folds for each of 1 candidates, totalling 5 fits\n",
            "Best AdaBoost params: {'classifier__learning_rate': 1.0, 'classifier__n_estimators': 200}\n",
            "Best AdaBoost CV score: 0.8414887453442971\n",
            "Saved AdaBoost model to: models/adaboost_model.pkl\n"
          ]
        }
      ]
    },
    {
      "cell_type": "code",
      "source": [],
      "metadata": {
        "id": "HOkTb0fBOM6-"
      },
      "execution_count": null,
      "outputs": []
    }
  ]
}